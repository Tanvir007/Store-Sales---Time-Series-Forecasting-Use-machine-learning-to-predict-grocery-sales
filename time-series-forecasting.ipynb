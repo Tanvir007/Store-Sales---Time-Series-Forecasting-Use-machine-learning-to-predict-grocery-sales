{
 "cells": [
  {
   "cell_type": "code",
   "execution_count": 1,
   "id": "b8e84db5",
   "metadata": {
    "_cell_guid": "b1076dfc-b9ad-4769-8c92-a6c4dae69d19",
    "_uuid": "8f2839f25d086af736a60e9eeb907d3b93b6e0e5",
    "execution": {
     "iopub.execute_input": "2023-01-13T09:21:33.463690Z",
     "iopub.status.busy": "2023-01-13T09:21:33.462864Z",
     "iopub.status.idle": "2023-01-13T09:21:33.479464Z",
     "shell.execute_reply": "2023-01-13T09:21:33.478794Z"
    },
    "papermill": {
     "duration": 0.031427,
     "end_time": "2023-01-13T09:21:33.482432",
     "exception": false,
     "start_time": "2023-01-13T09:21:33.451005",
     "status": "completed"
    },
    "tags": []
   },
   "outputs": [
    {
     "name": "stdout",
     "output_type": "stream",
     "text": [
      "/kaggle/input/store-sales-time-series-forecasting/oil.csv\n",
      "/kaggle/input/store-sales-time-series-forecasting/sample_submission.csv\n",
      "/kaggle/input/store-sales-time-series-forecasting/holidays_events.csv\n",
      "/kaggle/input/store-sales-time-series-forecasting/stores.csv\n",
      "/kaggle/input/store-sales-time-series-forecasting/train.csv\n",
      "/kaggle/input/store-sales-time-series-forecasting/test.csv\n",
      "/kaggle/input/store-sales-time-series-forecasting/transactions.csv\n"
     ]
    }
   ],
   "source": [
    "# This Python 3 environment comes with many helpful analytics libraries installed\n",
    "# It is defined by the kaggle/python Docker image: https://github.com/kaggle/docker-python\n",
    "# For example, here's several helpful packages to load\n",
    "\n",
    "import numpy as np # linear algebra\n",
    "import pandas as pd # data processing, CSV file I/O (e.g. pd.read_csv)\n",
    "\n",
    "# Input data files are available in the read-only \"../input/\" directory\n",
    "# For example, running this (by clicking run or pressing Shift+Enter) will list all files under the input directory\n",
    "\n",
    "import os\n",
    "for dirname, _, filenames in os.walk('/kaggle/input'):\n",
    "    for filename in filenames:\n",
    "        print(os.path.join(dirname, filename))\n",
    "\n",
    "# You can write up to 20GB to the current directory (/kaggle/working/) that gets preserved as output when you create a version using \"Save & Run All\" \n",
    "# You can also write temporary files to /kaggle/temp/, but they won't be saved outside of the current session"
   ]
  },
  {
   "cell_type": "code",
   "execution_count": 2,
   "id": "1d957f19",
   "metadata": {
    "execution": {
     "iopub.execute_input": "2023-01-13T09:21:33.504472Z",
     "iopub.status.busy": "2023-01-13T09:21:33.503882Z",
     "iopub.status.idle": "2023-01-13T09:21:34.918232Z",
     "shell.execute_reply": "2023-01-13T09:21:34.917155Z"
    },
    "papermill": {
     "duration": 1.427943,
     "end_time": "2023-01-13T09:21:34.920917",
     "exception": false,
     "start_time": "2023-01-13T09:21:33.492974",
     "status": "completed"
    },
    "tags": []
   },
   "outputs": [],
   "source": [
    "import numpy as np \n",
    "import pandas as pd\n",
    "import seaborn as sns\n",
    "import matplotlib.pyplot as plt\n",
    "import warnings\n",
    "warnings.simplefilter(\"ignore\")\n",
    "%matplotlib inline\n",
    "from pathlib import Path\n",
    "from sklearn.linear_model import LinearRegression\n",
    "from statsmodels.tsa.deterministic import DeterministicProcess, CalendarFourier\n",
    "from sklearn.preprocessing import OneHotEncoder"
   ]
  },
  {
   "cell_type": "code",
   "execution_count": 3,
   "id": "fa0e1a6f",
   "metadata": {
    "execution": {
     "iopub.execute_input": "2023-01-13T09:21:34.943415Z",
     "iopub.status.busy": "2023-01-13T09:21:34.943050Z",
     "iopub.status.idle": "2023-01-13T09:21:38.546223Z",
     "shell.execute_reply": "2023-01-13T09:21:38.544825Z"
    },
    "papermill": {
     "duration": 3.618805,
     "end_time": "2023-01-13T09:21:38.548755",
     "exception": false,
     "start_time": "2023-01-13T09:21:34.929950",
     "status": "completed"
    },
    "tags": []
   },
   "outputs": [],
   "source": [
    "train = pd.read_csv('/kaggle/input/store-sales-time-series-forecasting/train.csv')\n",
    "test = pd.read_csv('/kaggle/input/store-sales-time-series-forecasting/test.csv')\n",
    "stores = pd.read_csv('/kaggle/input/store-sales-time-series-forecasting/stores.csv')\n",
    "oil = pd.read_csv('/kaggle/input/store-sales-time-series-forecasting/oil.csv')\n",
    "transactions = pd.read_csv('/kaggle/input/store-sales-time-series-forecasting/transactions.csv')\n",
    "holidays = pd.read_csv('/kaggle/input/store-sales-time-series-forecasting/holidays_events.csv')"
   ]
  },
  {
   "cell_type": "code",
   "execution_count": 4,
   "id": "71d94704",
   "metadata": {
    "execution": {
     "iopub.execute_input": "2023-01-13T09:21:38.570967Z",
     "iopub.status.busy": "2023-01-13T09:21:38.570406Z",
     "iopub.status.idle": "2023-01-13T09:21:38.589745Z",
     "shell.execute_reply": "2023-01-13T09:21:38.589012Z"
    },
    "papermill": {
     "duration": 0.033242,
     "end_time": "2023-01-13T09:21:38.591534",
     "exception": false,
     "start_time": "2023-01-13T09:21:38.558292",
     "status": "completed"
    },
    "tags": []
   },
   "outputs": [
    {
     "data": {
      "text/html": [
       "<div>\n",
       "<style scoped>\n",
       "    .dataframe tbody tr th:only-of-type {\n",
       "        vertical-align: middle;\n",
       "    }\n",
       "\n",
       "    .dataframe tbody tr th {\n",
       "        vertical-align: top;\n",
       "    }\n",
       "\n",
       "    .dataframe thead th {\n",
       "        text-align: right;\n",
       "    }\n",
       "</style>\n",
       "<table border=\"1\" class=\"dataframe\">\n",
       "  <thead>\n",
       "    <tr style=\"text-align: right;\">\n",
       "      <th></th>\n",
       "      <th>store_nbr</th>\n",
       "      <th>city</th>\n",
       "      <th>state</th>\n",
       "      <th>type</th>\n",
       "      <th>cluster</th>\n",
       "    </tr>\n",
       "  </thead>\n",
       "  <tbody>\n",
       "    <tr>\n",
       "      <th>0</th>\n",
       "      <td>1</td>\n",
       "      <td>Quito</td>\n",
       "      <td>Pichincha</td>\n",
       "      <td>D</td>\n",
       "      <td>13</td>\n",
       "    </tr>\n",
       "    <tr>\n",
       "      <th>1</th>\n",
       "      <td>2</td>\n",
       "      <td>Quito</td>\n",
       "      <td>Pichincha</td>\n",
       "      <td>D</td>\n",
       "      <td>13</td>\n",
       "    </tr>\n",
       "    <tr>\n",
       "      <th>2</th>\n",
       "      <td>3</td>\n",
       "      <td>Quito</td>\n",
       "      <td>Pichincha</td>\n",
       "      <td>D</td>\n",
       "      <td>8</td>\n",
       "    </tr>\n",
       "    <tr>\n",
       "      <th>3</th>\n",
       "      <td>4</td>\n",
       "      <td>Quito</td>\n",
       "      <td>Pichincha</td>\n",
       "      <td>D</td>\n",
       "      <td>9</td>\n",
       "    </tr>\n",
       "    <tr>\n",
       "      <th>4</th>\n",
       "      <td>5</td>\n",
       "      <td>Santo Domingo</td>\n",
       "      <td>Santo Domingo de los Tsachilas</td>\n",
       "      <td>D</td>\n",
       "      <td>4</td>\n",
       "    </tr>\n",
       "  </tbody>\n",
       "</table>\n",
       "</div>"
      ],
      "text/plain": [
       "   store_nbr           city                           state type  cluster\n",
       "0          1          Quito                       Pichincha    D       13\n",
       "1          2          Quito                       Pichincha    D       13\n",
       "2          3          Quito                       Pichincha    D        8\n",
       "3          4          Quito                       Pichincha    D        9\n",
       "4          5  Santo Domingo  Santo Domingo de los Tsachilas    D        4"
      ]
     },
     "execution_count": 4,
     "metadata": {},
     "output_type": "execute_result"
    }
   ],
   "source": [
    "stores.head()"
   ]
  },
  {
   "cell_type": "code",
   "execution_count": 5,
   "id": "9a1638c7",
   "metadata": {
    "execution": {
     "iopub.execute_input": "2023-01-13T09:21:38.612185Z",
     "iopub.status.busy": "2023-01-13T09:21:38.611647Z",
     "iopub.status.idle": "2023-01-13T09:21:38.618032Z",
     "shell.execute_reply": "2023-01-13T09:21:38.617020Z"
    },
    "papermill": {
     "duration": 0.018805,
     "end_time": "2023-01-13T09:21:38.620004",
     "exception": false,
     "start_time": "2023-01-13T09:21:38.601199",
     "status": "completed"
    },
    "tags": []
   },
   "outputs": [
    {
     "data": {
      "text/plain": [
       "(54, 5)"
      ]
     },
     "execution_count": 5,
     "metadata": {},
     "output_type": "execute_result"
    }
   ],
   "source": [
    "stores.shape"
   ]
  },
  {
   "cell_type": "code",
   "execution_count": 6,
   "id": "3894ce02",
   "metadata": {
    "execution": {
     "iopub.execute_input": "2023-01-13T09:21:38.640789Z",
     "iopub.status.busy": "2023-01-13T09:21:38.640184Z",
     "iopub.status.idle": "2023-01-13T09:21:38.668553Z",
     "shell.execute_reply": "2023-01-13T09:21:38.666604Z"
    },
    "papermill": {
     "duration": 0.042087,
     "end_time": "2023-01-13T09:21:38.671406",
     "exception": false,
     "start_time": "2023-01-13T09:21:38.629319",
     "status": "completed"
    },
    "tags": []
   },
   "outputs": [
    {
     "name": "stdout",
     "output_type": "stream",
     "text": [
      "<class 'pandas.core.frame.DataFrame'>\n",
      "RangeIndex: 54 entries, 0 to 53\n",
      "Data columns (total 5 columns):\n",
      " #   Column     Non-Null Count  Dtype \n",
      "---  ------     --------------  ----- \n",
      " 0   store_nbr  54 non-null     int64 \n",
      " 1   city       54 non-null     object\n",
      " 2   state      54 non-null     object\n",
      " 3   type       54 non-null     object\n",
      " 4   cluster    54 non-null     int64 \n",
      "dtypes: int64(2), object(3)\n",
      "memory usage: 2.2+ KB\n"
     ]
    }
   ],
   "source": [
    "stores.info()"
   ]
  },
  {
   "cell_type": "code",
   "execution_count": 7,
   "id": "575a580f",
   "metadata": {
    "execution": {
     "iopub.execute_input": "2023-01-13T09:21:38.694036Z",
     "iopub.status.busy": "2023-01-13T09:21:38.693495Z",
     "iopub.status.idle": "2023-01-13T09:21:38.704384Z",
     "shell.execute_reply": "2023-01-13T09:21:38.702905Z"
    },
    "papermill": {
     "duration": 0.026327,
     "end_time": "2023-01-13T09:21:38.707542",
     "exception": false,
     "start_time": "2023-01-13T09:21:38.681215",
     "status": "completed"
    },
    "tags": []
   },
   "outputs": [
    {
     "data": {
      "text/plain": [
       "store_nbr    0\n",
       "city         0\n",
       "state        0\n",
       "type         0\n",
       "cluster      0\n",
       "dtype: int64"
      ]
     },
     "execution_count": 7,
     "metadata": {},
     "output_type": "execute_result"
    }
   ],
   "source": [
    "stores.isnull().sum()"
   ]
  },
  {
   "cell_type": "code",
   "execution_count": 8,
   "id": "48d0199e",
   "metadata": {
    "execution": {
     "iopub.execute_input": "2023-01-13T09:21:38.729047Z",
     "iopub.status.busy": "2023-01-13T09:21:38.728672Z",
     "iopub.status.idle": "2023-01-13T09:21:38.738674Z",
     "shell.execute_reply": "2023-01-13T09:21:38.736936Z"
    },
    "papermill": {
     "duration": 0.024549,
     "end_time": "2023-01-13T09:21:38.741624",
     "exception": false,
     "start_time": "2023-01-13T09:21:38.717075",
     "status": "completed"
    },
    "tags": []
   },
   "outputs": [
    {
     "data": {
      "text/plain": [
       "0"
      ]
     },
     "execution_count": 8,
     "metadata": {},
     "output_type": "execute_result"
    }
   ],
   "source": [
    "stores.duplicated().sum()"
   ]
  },
  {
   "cell_type": "code",
   "execution_count": 9,
   "id": "fb381f76",
   "metadata": {
    "execution": {
     "iopub.execute_input": "2023-01-13T09:21:38.762141Z",
     "iopub.status.busy": "2023-01-13T09:21:38.761770Z",
     "iopub.status.idle": "2023-01-13T09:21:38.778830Z",
     "shell.execute_reply": "2023-01-13T09:21:38.777866Z"
    },
    "papermill": {
     "duration": 0.02966,
     "end_time": "2023-01-13T09:21:38.780829",
     "exception": false,
     "start_time": "2023-01-13T09:21:38.751169",
     "status": "completed"
    },
    "tags": []
   },
   "outputs": [
    {
     "data": {
      "text/html": [
       "<div>\n",
       "<style scoped>\n",
       "    .dataframe tbody tr th:only-of-type {\n",
       "        vertical-align: middle;\n",
       "    }\n",
       "\n",
       "    .dataframe tbody tr th {\n",
       "        vertical-align: top;\n",
       "    }\n",
       "\n",
       "    .dataframe thead th {\n",
       "        text-align: right;\n",
       "    }\n",
       "</style>\n",
       "<table border=\"1\" class=\"dataframe\">\n",
       "  <thead>\n",
       "    <tr style=\"text-align: right;\">\n",
       "      <th></th>\n",
       "      <th>store_nbr</th>\n",
       "      <th>cluster</th>\n",
       "    </tr>\n",
       "  </thead>\n",
       "  <tbody>\n",
       "    <tr>\n",
       "      <th>count</th>\n",
       "      <td>54.000000</td>\n",
       "      <td>54.000000</td>\n",
       "    </tr>\n",
       "    <tr>\n",
       "      <th>mean</th>\n",
       "      <td>27.500000</td>\n",
       "      <td>8.481481</td>\n",
       "    </tr>\n",
       "    <tr>\n",
       "      <th>std</th>\n",
       "      <td>15.732133</td>\n",
       "      <td>4.693395</td>\n",
       "    </tr>\n",
       "    <tr>\n",
       "      <th>min</th>\n",
       "      <td>1.000000</td>\n",
       "      <td>1.000000</td>\n",
       "    </tr>\n",
       "    <tr>\n",
       "      <th>25%</th>\n",
       "      <td>14.250000</td>\n",
       "      <td>4.000000</td>\n",
       "    </tr>\n",
       "    <tr>\n",
       "      <th>50%</th>\n",
       "      <td>27.500000</td>\n",
       "      <td>8.500000</td>\n",
       "    </tr>\n",
       "    <tr>\n",
       "      <th>75%</th>\n",
       "      <td>40.750000</td>\n",
       "      <td>13.000000</td>\n",
       "    </tr>\n",
       "    <tr>\n",
       "      <th>max</th>\n",
       "      <td>54.000000</td>\n",
       "      <td>17.000000</td>\n",
       "    </tr>\n",
       "  </tbody>\n",
       "</table>\n",
       "</div>"
      ],
      "text/plain": [
       "       store_nbr    cluster\n",
       "count  54.000000  54.000000\n",
       "mean   27.500000   8.481481\n",
       "std    15.732133   4.693395\n",
       "min     1.000000   1.000000\n",
       "25%    14.250000   4.000000\n",
       "50%    27.500000   8.500000\n",
       "75%    40.750000  13.000000\n",
       "max    54.000000  17.000000"
      ]
     },
     "execution_count": 9,
     "metadata": {},
     "output_type": "execute_result"
    }
   ],
   "source": [
    "stores.describe()"
   ]
  },
  {
   "cell_type": "code",
   "execution_count": 10,
   "id": "80ed9e76",
   "metadata": {
    "execution": {
     "iopub.execute_input": "2023-01-13T09:21:38.801669Z",
     "iopub.status.busy": "2023-01-13T09:21:38.801269Z",
     "iopub.status.idle": "2023-01-13T09:21:38.810032Z",
     "shell.execute_reply": "2023-01-13T09:21:38.808779Z"
    },
    "papermill": {
     "duration": 0.021476,
     "end_time": "2023-01-13T09:21:38.812013",
     "exception": false,
     "start_time": "2023-01-13T09:21:38.790537",
     "status": "completed"
    },
    "tags": []
   },
   "outputs": [
    {
     "data": {
      "text/plain": [
       "Pichincha                         19\n",
       "Guayas                            11\n",
       "Santo Domingo de los Tsachilas     3\n",
       "Azuay                              3\n",
       "Manabi                             3\n",
       "Cotopaxi                           2\n",
       "Tungurahua                         2\n",
       "Los Rios                           2\n",
       "El Oro                             2\n",
       "Chimborazo                         1\n",
       "Imbabura                           1\n",
       "Bolivar                            1\n",
       "Pastaza                            1\n",
       "Santa Elena                        1\n",
       "Loja                               1\n",
       "Esmeraldas                         1\n",
       "Name: state, dtype: int64"
      ]
     },
     "execution_count": 10,
     "metadata": {},
     "output_type": "execute_result"
    }
   ],
   "source": [
    "stores['state'].value_counts()"
   ]
  },
  {
   "cell_type": "code",
   "execution_count": 11,
   "id": "89fa4f7a",
   "metadata": {
    "execution": {
     "iopub.execute_input": "2023-01-13T09:21:38.833696Z",
     "iopub.status.busy": "2023-01-13T09:21:38.833225Z",
     "iopub.status.idle": "2023-01-13T09:21:38.846290Z",
     "shell.execute_reply": "2023-01-13T09:21:38.845056Z"
    },
    "papermill": {
     "duration": 0.026554,
     "end_time": "2023-01-13T09:21:38.848536",
     "exception": false,
     "start_time": "2023-01-13T09:21:38.821982",
     "status": "completed"
    },
    "tags": []
   },
   "outputs": [
    {
     "data": {
      "text/html": [
       "<div>\n",
       "<style scoped>\n",
       "    .dataframe tbody tr th:only-of-type {\n",
       "        vertical-align: middle;\n",
       "    }\n",
       "\n",
       "    .dataframe tbody tr th {\n",
       "        vertical-align: top;\n",
       "    }\n",
       "\n",
       "    .dataframe thead th {\n",
       "        text-align: right;\n",
       "    }\n",
       "</style>\n",
       "<table border=\"1\" class=\"dataframe\">\n",
       "  <thead>\n",
       "    <tr style=\"text-align: right;\">\n",
       "      <th></th>\n",
       "      <th>id</th>\n",
       "      <th>date</th>\n",
       "      <th>store_nbr</th>\n",
       "      <th>family</th>\n",
       "      <th>sales</th>\n",
       "      <th>onpromotion</th>\n",
       "    </tr>\n",
       "  </thead>\n",
       "  <tbody>\n",
       "    <tr>\n",
       "      <th>0</th>\n",
       "      <td>0</td>\n",
       "      <td>2013-01-01</td>\n",
       "      <td>1</td>\n",
       "      <td>AUTOMOTIVE</td>\n",
       "      <td>0.0</td>\n",
       "      <td>0</td>\n",
       "    </tr>\n",
       "    <tr>\n",
       "      <th>1</th>\n",
       "      <td>1</td>\n",
       "      <td>2013-01-01</td>\n",
       "      <td>1</td>\n",
       "      <td>BABY CARE</td>\n",
       "      <td>0.0</td>\n",
       "      <td>0</td>\n",
       "    </tr>\n",
       "    <tr>\n",
       "      <th>2</th>\n",
       "      <td>2</td>\n",
       "      <td>2013-01-01</td>\n",
       "      <td>1</td>\n",
       "      <td>BEAUTY</td>\n",
       "      <td>0.0</td>\n",
       "      <td>0</td>\n",
       "    </tr>\n",
       "    <tr>\n",
       "      <th>3</th>\n",
       "      <td>3</td>\n",
       "      <td>2013-01-01</td>\n",
       "      <td>1</td>\n",
       "      <td>BEVERAGES</td>\n",
       "      <td>0.0</td>\n",
       "      <td>0</td>\n",
       "    </tr>\n",
       "    <tr>\n",
       "      <th>4</th>\n",
       "      <td>4</td>\n",
       "      <td>2013-01-01</td>\n",
       "      <td>1</td>\n",
       "      <td>BOOKS</td>\n",
       "      <td>0.0</td>\n",
       "      <td>0</td>\n",
       "    </tr>\n",
       "  </tbody>\n",
       "</table>\n",
       "</div>"
      ],
      "text/plain": [
       "   id        date  store_nbr      family  sales  onpromotion\n",
       "0   0  2013-01-01          1  AUTOMOTIVE    0.0            0\n",
       "1   1  2013-01-01          1   BABY CARE    0.0            0\n",
       "2   2  2013-01-01          1      BEAUTY    0.0            0\n",
       "3   3  2013-01-01          1   BEVERAGES    0.0            0\n",
       "4   4  2013-01-01          1       BOOKS    0.0            0"
      ]
     },
     "execution_count": 11,
     "metadata": {},
     "output_type": "execute_result"
    }
   ],
   "source": [
    "train.head()"
   ]
  },
  {
   "cell_type": "code",
   "execution_count": 12,
   "id": "52701855",
   "metadata": {
    "execution": {
     "iopub.execute_input": "2023-01-13T09:21:38.872198Z",
     "iopub.status.busy": "2023-01-13T09:21:38.871776Z",
     "iopub.status.idle": "2023-01-13T09:21:38.883654Z",
     "shell.execute_reply": "2023-01-13T09:21:38.881953Z"
    },
    "papermill": {
     "duration": 0.02722,
     "end_time": "2023-01-13T09:21:38.886322",
     "exception": false,
     "start_time": "2023-01-13T09:21:38.859102",
     "status": "completed"
    },
    "tags": []
   },
   "outputs": [
    {
     "name": "stdout",
     "output_type": "stream",
     "text": [
      "<class 'pandas.core.frame.DataFrame'>\n",
      "RangeIndex: 3000888 entries, 0 to 3000887\n",
      "Data columns (total 6 columns):\n",
      " #   Column       Dtype  \n",
      "---  ------       -----  \n",
      " 0   id           int64  \n",
      " 1   date         object \n",
      " 2   store_nbr    int64  \n",
      " 3   family       object \n",
      " 4   sales        float64\n",
      " 5   onpromotion  int64  \n",
      "dtypes: float64(1), int64(3), object(2)\n",
      "memory usage: 137.4+ MB\n"
     ]
    }
   ],
   "source": [
    "train.info()"
   ]
  },
  {
   "cell_type": "code",
   "execution_count": 13,
   "id": "105f8150",
   "metadata": {
    "execution": {
     "iopub.execute_input": "2023-01-13T09:21:38.908613Z",
     "iopub.status.busy": "2023-01-13T09:21:38.908238Z",
     "iopub.status.idle": "2023-01-13T09:21:39.248061Z",
     "shell.execute_reply": "2023-01-13T09:21:39.247027Z"
    },
    "papermill": {
     "duration": 0.35378,
     "end_time": "2023-01-13T09:21:39.250597",
     "exception": false,
     "start_time": "2023-01-13T09:21:38.896817",
     "status": "completed"
    },
    "tags": []
   },
   "outputs": [],
   "source": [
    "train['date'] = pd.to_datetime(train['date'],infer_datetime_format = True)"
   ]
  },
  {
   "cell_type": "code",
   "execution_count": 14,
   "id": "67115902",
   "metadata": {
    "execution": {
     "iopub.execute_input": "2023-01-13T09:21:39.272823Z",
     "iopub.status.busy": "2023-01-13T09:21:39.272411Z",
     "iopub.status.idle": "2023-01-13T09:21:39.285054Z",
     "shell.execute_reply": "2023-01-13T09:21:39.283409Z"
    },
    "papermill": {
     "duration": 0.027542,
     "end_time": "2023-01-13T09:21:39.288288",
     "exception": false,
     "start_time": "2023-01-13T09:21:39.260746",
     "status": "completed"
    },
    "tags": []
   },
   "outputs": [
    {
     "name": "stdout",
     "output_type": "stream",
     "text": [
      "<class 'pandas.core.frame.DataFrame'>\n",
      "RangeIndex: 3000888 entries, 0 to 3000887\n",
      "Data columns (total 6 columns):\n",
      " #   Column       Dtype         \n",
      "---  ------       -----         \n",
      " 0   id           int64         \n",
      " 1   date         datetime64[ns]\n",
      " 2   store_nbr    int64         \n",
      " 3   family       object        \n",
      " 4   sales        float64       \n",
      " 5   onpromotion  int64         \n",
      "dtypes: datetime64[ns](1), float64(1), int64(3), object(1)\n",
      "memory usage: 137.4+ MB\n"
     ]
    }
   ],
   "source": [
    "train.info()"
   ]
  },
  {
   "cell_type": "code",
   "execution_count": 15,
   "id": "6b76fd20",
   "metadata": {
    "execution": {
     "iopub.execute_input": "2023-01-13T09:21:39.311269Z",
     "iopub.status.busy": "2023-01-13T09:21:39.310028Z",
     "iopub.status.idle": "2023-01-13T09:21:39.465799Z",
     "shell.execute_reply": "2023-01-13T09:21:39.464798Z"
    },
    "papermill": {
     "duration": 0.169169,
     "end_time": "2023-01-13T09:21:39.467775",
     "exception": false,
     "start_time": "2023-01-13T09:21:39.298606",
     "status": "completed"
    },
    "tags": []
   },
   "outputs": [
    {
     "data": {
      "text/plain": [
       "AUTOMOTIVE             90936\n",
       "BABY CARE              90936\n",
       "BEAUTY                 90936\n",
       "BEVERAGES              90936\n",
       "BOOKS                  90936\n",
       "BREAD/BAKERY           90936\n",
       "CELEBRATION            90936\n",
       "CLEANING               90936\n",
       "DAIRY                  90936\n",
       "DELI                   90936\n",
       "EGGS                   90936\n",
       "FROZEN FOODS           90936\n",
       "GROCERY I              90936\n",
       "GROCERY II             90936\n",
       "HARDWARE               90936\n",
       "HOME AND KITCHEN I     90936\n",
       "HOME AND KITCHEN II    90936\n",
       "HOME APPLIANCES        90936\n",
       "HOME CARE              90936\n",
       "LADIESWEAR             90936\n",
       "Name: family, dtype: int64"
      ]
     },
     "execution_count": 15,
     "metadata": {},
     "output_type": "execute_result"
    }
   ],
   "source": [
    "train['family'].value_counts().sort_values(ascending = False)[0:20]"
   ]
  },
  {
   "cell_type": "code",
   "execution_count": 16,
   "id": "35c0bafc",
   "metadata": {
    "execution": {
     "iopub.execute_input": "2023-01-13T09:21:39.490551Z",
     "iopub.status.busy": "2023-01-13T09:21:39.490160Z",
     "iopub.status.idle": "2023-01-13T09:21:39.613579Z",
     "shell.execute_reply": "2023-01-13T09:21:39.612479Z"
    },
    "papermill": {
     "duration": 0.137423,
     "end_time": "2023-01-13T09:21:39.615606",
     "exception": false,
     "start_time": "2023-01-13T09:21:39.478183",
     "status": "completed"
    },
    "tags": []
   },
   "outputs": [
    {
     "data": {
      "text/plain": [
       "id             0\n",
       "date           0\n",
       "store_nbr      0\n",
       "family         0\n",
       "sales          0\n",
       "onpromotion    0\n",
       "dtype: int64"
      ]
     },
     "execution_count": 16,
     "metadata": {},
     "output_type": "execute_result"
    }
   ],
   "source": [
    "train.isnull().sum()"
   ]
  },
  {
   "cell_type": "code",
   "execution_count": 17,
   "id": "4f2b42e4",
   "metadata": {
    "execution": {
     "iopub.execute_input": "2023-01-13T09:21:39.640609Z",
     "iopub.status.busy": "2023-01-13T09:21:39.640217Z",
     "iopub.status.idle": "2023-01-13T09:21:39.649008Z",
     "shell.execute_reply": "2023-01-13T09:21:39.647388Z"
    },
    "papermill": {
     "duration": 0.02431,
     "end_time": "2023-01-13T09:21:39.652125",
     "exception": false,
     "start_time": "2023-01-13T09:21:39.627815",
     "status": "completed"
    },
    "tags": []
   },
   "outputs": [
    {
     "data": {
      "text/plain": [
       "(3000888, 6)"
      ]
     },
     "execution_count": 17,
     "metadata": {},
     "output_type": "execute_result"
    }
   ],
   "source": [
    "train.shape"
   ]
  },
  {
   "cell_type": "code",
   "execution_count": 18,
   "id": "0781e56c",
   "metadata": {
    "execution": {
     "iopub.execute_input": "2023-01-13T09:21:39.675779Z",
     "iopub.status.busy": "2023-01-13T09:21:39.675336Z",
     "iopub.status.idle": "2023-01-13T09:21:39.697710Z",
     "shell.execute_reply": "2023-01-13T09:21:39.696323Z"
    },
    "papermill": {
     "duration": 0.037335,
     "end_time": "2023-01-13T09:21:39.700615",
     "exception": false,
     "start_time": "2023-01-13T09:21:39.663280",
     "status": "completed"
    },
    "tags": []
   },
   "outputs": [
    {
     "data": {
      "text/plain": [
       "array([  0,   3,   5,   1,  56,  20,  19,   2,   4,  18,  17,  12,   6,\n",
       "         7,  10,   9,  50,   8,  16,  42,  51,  13,  15,  47,  21,  40,\n",
       "        37,  54,  24,  58,  22,  59,  11,  45,  25,  55,  26,  43,  35,\n",
       "        14,  28,  46,  36,  32,  53,  57,  27,  39,  41,  30,  29,  49,\n",
       "        23,  48,  44,  38,  31,  52,  33,  34,  61,  60, 116,  86,  73,\n",
       "       113, 102,  68, 104,  93,  70,  92, 121,  72, 178, 174, 161, 118,\n",
       "       105, 172, 163, 167, 142, 154, 133, 180, 181, 173, 165, 168, 186,\n",
       "       140, 149, 145, 169, 188,  62,  84, 111,  65, 107,  63, 101,  87,\n",
       "       125,  94, 114, 171, 153, 170, 166, 141, 155, 179, 192, 131, 147,\n",
       "       151, 189,  79,  74, 110,  64,  67,  99, 123, 157, 117, 150, 182,\n",
       "       162, 160, 194, 135, 190,  69, 108,  89, 126, 156, 103, 146, 132,\n",
       "       177, 164, 176, 112,  75, 109,  91, 128, 175, 187, 148, 137, 184,\n",
       "       196, 144, 158, 119, 106,  66, 100,  90, 120, 115,  98, 159, 152,\n",
       "       185, 139, 143,  80, 124,  71, 134, 193,  78,  88, 122, 130,  81,\n",
       "        97, 138, 191,  76,  96, 198,  82,  95, 195, 183, 199, 200, 201,\n",
       "       197,  77,  83, 136, 205, 204, 202, 129, 206,  85, 209, 211, 207,\n",
       "       208, 203, 210, 127, 213, 212, 218, 216, 217, 214, 222, 220, 223,\n",
       "       229, 225, 228, 224, 231, 215, 233, 230, 235, 227, 221, 226, 219,\n",
       "       289, 245, 609, 261, 322, 276, 710, 511, 326, 281, 718, 551, 304,\n",
       "       639, 489, 299, 243, 630, 476, 655, 446, 286, 633, 435, 302, 644,\n",
       "       470, 332, 259, 702, 520, 300, 241, 668, 510, 237, 626, 507, 317,\n",
       "       624, 474, 240, 672, 306, 600, 383, 293, 258, 646, 444, 333, 279,\n",
       "       717, 342, 720, 547, 305, 642, 452, 313, 252, 664, 481, 277, 307,\n",
       "       264, 684, 479, 255, 657, 441, 312, 269, 716, 528, 320, 285, 726,\n",
       "       536, 283, 628, 469, 464, 677, 420, 247, 629, 424, 290, 473, 294,\n",
       "       722, 485, 297, 282, 719, 543, 253, 254, 678, 496, 275, 741, 512,\n",
       "       236, 234, 244, 239, 238, 242, 232, 249, 250, 251, 391, 539, 411,\n",
       "       486, 407, 330, 697, 246, 467, 263, 591, 248, 519, 425])"
      ]
     },
     "execution_count": 18,
     "metadata": {},
     "output_type": "execute_result"
    }
   ],
   "source": [
    "train['onpromotion'].unique()"
   ]
  },
  {
   "cell_type": "code",
   "execution_count": 19,
   "id": "66fa9bfa",
   "metadata": {
    "execution": {
     "iopub.execute_input": "2023-01-13T09:21:39.724112Z",
     "iopub.status.busy": "2023-01-13T09:21:39.723734Z",
     "iopub.status.idle": "2023-01-13T09:21:39.736202Z",
     "shell.execute_reply": "2023-01-13T09:21:39.734700Z"
    },
    "papermill": {
     "duration": 0.027696,
     "end_time": "2023-01-13T09:21:39.739221",
     "exception": false,
     "start_time": "2023-01-13T09:21:39.711525",
     "status": "completed"
    },
    "tags": []
   },
   "outputs": [
    {
     "data": {
      "text/html": [
       "<div>\n",
       "<style scoped>\n",
       "    .dataframe tbody tr th:only-of-type {\n",
       "        vertical-align: middle;\n",
       "    }\n",
       "\n",
       "    .dataframe tbody tr th {\n",
       "        vertical-align: top;\n",
       "    }\n",
       "\n",
       "    .dataframe thead th {\n",
       "        text-align: right;\n",
       "    }\n",
       "</style>\n",
       "<table border=\"1\" class=\"dataframe\">\n",
       "  <thead>\n",
       "    <tr style=\"text-align: right;\">\n",
       "      <th></th>\n",
       "      <th>id</th>\n",
       "      <th>date</th>\n",
       "      <th>store_nbr</th>\n",
       "      <th>family</th>\n",
       "      <th>onpromotion</th>\n",
       "    </tr>\n",
       "  </thead>\n",
       "  <tbody>\n",
       "    <tr>\n",
       "      <th>0</th>\n",
       "      <td>3000888</td>\n",
       "      <td>2017-08-16</td>\n",
       "      <td>1</td>\n",
       "      <td>AUTOMOTIVE</td>\n",
       "      <td>0</td>\n",
       "    </tr>\n",
       "    <tr>\n",
       "      <th>1</th>\n",
       "      <td>3000889</td>\n",
       "      <td>2017-08-16</td>\n",
       "      <td>1</td>\n",
       "      <td>BABY CARE</td>\n",
       "      <td>0</td>\n",
       "    </tr>\n",
       "    <tr>\n",
       "      <th>2</th>\n",
       "      <td>3000890</td>\n",
       "      <td>2017-08-16</td>\n",
       "      <td>1</td>\n",
       "      <td>BEAUTY</td>\n",
       "      <td>2</td>\n",
       "    </tr>\n",
       "    <tr>\n",
       "      <th>3</th>\n",
       "      <td>3000891</td>\n",
       "      <td>2017-08-16</td>\n",
       "      <td>1</td>\n",
       "      <td>BEVERAGES</td>\n",
       "      <td>20</td>\n",
       "    </tr>\n",
       "    <tr>\n",
       "      <th>4</th>\n",
       "      <td>3000892</td>\n",
       "      <td>2017-08-16</td>\n",
       "      <td>1</td>\n",
       "      <td>BOOKS</td>\n",
       "      <td>0</td>\n",
       "    </tr>\n",
       "  </tbody>\n",
       "</table>\n",
       "</div>"
      ],
      "text/plain": [
       "        id        date  store_nbr      family  onpromotion\n",
       "0  3000888  2017-08-16          1  AUTOMOTIVE            0\n",
       "1  3000889  2017-08-16          1   BABY CARE            0\n",
       "2  3000890  2017-08-16          1      BEAUTY            2\n",
       "3  3000891  2017-08-16          1   BEVERAGES           20\n",
       "4  3000892  2017-08-16          1       BOOKS            0"
      ]
     },
     "execution_count": 19,
     "metadata": {},
     "output_type": "execute_result"
    }
   ],
   "source": [
    "test.head()"
   ]
  },
  {
   "cell_type": "code",
   "execution_count": 20,
   "id": "d597373c",
   "metadata": {
    "execution": {
     "iopub.execute_input": "2023-01-13T09:21:39.762958Z",
     "iopub.status.busy": "2023-01-13T09:21:39.762555Z",
     "iopub.status.idle": "2023-01-13T09:21:39.772574Z",
     "shell.execute_reply": "2023-01-13T09:21:39.770940Z"
    },
    "papermill": {
     "duration": 0.026042,
     "end_time": "2023-01-13T09:21:39.776302",
     "exception": false,
     "start_time": "2023-01-13T09:21:39.750260",
     "status": "completed"
    },
    "tags": []
   },
   "outputs": [
    {
     "data": {
      "text/plain": [
       "(28512, 5)"
      ]
     },
     "execution_count": 20,
     "metadata": {},
     "output_type": "execute_result"
    }
   ],
   "source": [
    "test.shape"
   ]
  },
  {
   "cell_type": "code",
   "execution_count": 21,
   "id": "e14a0368",
   "metadata": {
    "execution": {
     "iopub.execute_input": "2023-01-13T09:21:39.803253Z",
     "iopub.status.busy": "2023-01-13T09:21:39.801877Z",
     "iopub.status.idle": "2023-01-13T09:21:39.817561Z",
     "shell.execute_reply": "2023-01-13T09:21:39.816065Z"
    },
    "papermill": {
     "duration": 0.032372,
     "end_time": "2023-01-13T09:21:39.820734",
     "exception": false,
     "start_time": "2023-01-13T09:21:39.788362",
     "status": "completed"
    },
    "tags": []
   },
   "outputs": [
    {
     "name": "stdout",
     "output_type": "stream",
     "text": [
      "<class 'pandas.core.frame.DataFrame'>\n",
      "RangeIndex: 28512 entries, 0 to 28511\n",
      "Data columns (total 5 columns):\n",
      " #   Column       Non-Null Count  Dtype \n",
      "---  ------       --------------  ----- \n",
      " 0   id           28512 non-null  int64 \n",
      " 1   date         28512 non-null  object\n",
      " 2   store_nbr    28512 non-null  int64 \n",
      " 3   family       28512 non-null  object\n",
      " 4   onpromotion  28512 non-null  int64 \n",
      "dtypes: int64(3), object(2)\n",
      "memory usage: 1.1+ MB\n"
     ]
    }
   ],
   "source": [
    "test.info()"
   ]
  },
  {
   "cell_type": "code",
   "execution_count": 22,
   "id": "e7afcb0f",
   "metadata": {
    "execution": {
     "iopub.execute_input": "2023-01-13T09:21:39.845600Z",
     "iopub.status.busy": "2023-01-13T09:21:39.845255Z",
     "iopub.status.idle": "2023-01-13T09:21:39.855480Z",
     "shell.execute_reply": "2023-01-13T09:21:39.854802Z"
    },
    "papermill": {
     "duration": 0.024471,
     "end_time": "2023-01-13T09:21:39.857362",
     "exception": false,
     "start_time": "2023-01-13T09:21:39.832891",
     "status": "completed"
    },
    "tags": []
   },
   "outputs": [],
   "source": [
    "test['date'] = pd.to_datetime(test['date'],infer_datetime_format = True)"
   ]
  },
  {
   "cell_type": "code",
   "execution_count": 23,
   "id": "02b911b0",
   "metadata": {
    "execution": {
     "iopub.execute_input": "2023-01-13T09:21:39.881208Z",
     "iopub.status.busy": "2023-01-13T09:21:39.880038Z",
     "iopub.status.idle": "2023-01-13T09:21:39.892645Z",
     "shell.execute_reply": "2023-01-13T09:21:39.891689Z"
    },
    "papermill": {
     "duration": 0.026277,
     "end_time": "2023-01-13T09:21:39.894528",
     "exception": false,
     "start_time": "2023-01-13T09:21:39.868251",
     "status": "completed"
    },
    "tags": []
   },
   "outputs": [
    {
     "data": {
      "text/html": [
       "<div>\n",
       "<style scoped>\n",
       "    .dataframe tbody tr th:only-of-type {\n",
       "        vertical-align: middle;\n",
       "    }\n",
       "\n",
       "    .dataframe tbody tr th {\n",
       "        vertical-align: top;\n",
       "    }\n",
       "\n",
       "    .dataframe thead th {\n",
       "        text-align: right;\n",
       "    }\n",
       "</style>\n",
       "<table border=\"1\" class=\"dataframe\">\n",
       "  <thead>\n",
       "    <tr style=\"text-align: right;\">\n",
       "      <th></th>\n",
       "      <th>date</th>\n",
       "      <th>type</th>\n",
       "      <th>locale</th>\n",
       "      <th>locale_name</th>\n",
       "      <th>description</th>\n",
       "      <th>transferred</th>\n",
       "    </tr>\n",
       "  </thead>\n",
       "  <tbody>\n",
       "    <tr>\n",
       "      <th>0</th>\n",
       "      <td>2012-03-02</td>\n",
       "      <td>Holiday</td>\n",
       "      <td>Local</td>\n",
       "      <td>Manta</td>\n",
       "      <td>Fundacion de Manta</td>\n",
       "      <td>False</td>\n",
       "    </tr>\n",
       "    <tr>\n",
       "      <th>1</th>\n",
       "      <td>2012-04-01</td>\n",
       "      <td>Holiday</td>\n",
       "      <td>Regional</td>\n",
       "      <td>Cotopaxi</td>\n",
       "      <td>Provincializacion de Cotopaxi</td>\n",
       "      <td>False</td>\n",
       "    </tr>\n",
       "    <tr>\n",
       "      <th>2</th>\n",
       "      <td>2012-04-12</td>\n",
       "      <td>Holiday</td>\n",
       "      <td>Local</td>\n",
       "      <td>Cuenca</td>\n",
       "      <td>Fundacion de Cuenca</td>\n",
       "      <td>False</td>\n",
       "    </tr>\n",
       "    <tr>\n",
       "      <th>3</th>\n",
       "      <td>2012-04-14</td>\n",
       "      <td>Holiday</td>\n",
       "      <td>Local</td>\n",
       "      <td>Libertad</td>\n",
       "      <td>Cantonizacion de Libertad</td>\n",
       "      <td>False</td>\n",
       "    </tr>\n",
       "    <tr>\n",
       "      <th>4</th>\n",
       "      <td>2012-04-21</td>\n",
       "      <td>Holiday</td>\n",
       "      <td>Local</td>\n",
       "      <td>Riobamba</td>\n",
       "      <td>Cantonizacion de Riobamba</td>\n",
       "      <td>False</td>\n",
       "    </tr>\n",
       "  </tbody>\n",
       "</table>\n",
       "</div>"
      ],
      "text/plain": [
       "         date     type    locale locale_name                    description  \\\n",
       "0  2012-03-02  Holiday     Local       Manta             Fundacion de Manta   \n",
       "1  2012-04-01  Holiday  Regional    Cotopaxi  Provincializacion de Cotopaxi   \n",
       "2  2012-04-12  Holiday     Local      Cuenca            Fundacion de Cuenca   \n",
       "3  2012-04-14  Holiday     Local    Libertad      Cantonizacion de Libertad   \n",
       "4  2012-04-21  Holiday     Local    Riobamba      Cantonizacion de Riobamba   \n",
       "\n",
       "   transferred  \n",
       "0        False  \n",
       "1        False  \n",
       "2        False  \n",
       "3        False  \n",
       "4        False  "
      ]
     },
     "execution_count": 23,
     "metadata": {},
     "output_type": "execute_result"
    }
   ],
   "source": [
    "holidays.head()"
   ]
  },
  {
   "cell_type": "code",
   "execution_count": 24,
   "id": "c2dbc92a",
   "metadata": {
    "execution": {
     "iopub.execute_input": "2023-01-13T09:21:39.917780Z",
     "iopub.status.busy": "2023-01-13T09:21:39.917390Z",
     "iopub.status.idle": "2023-01-13T09:21:39.929556Z",
     "shell.execute_reply": "2023-01-13T09:21:39.928677Z"
    },
    "papermill": {
     "duration": 0.027184,
     "end_time": "2023-01-13T09:21:39.932483",
     "exception": false,
     "start_time": "2023-01-13T09:21:39.905299",
     "status": "completed"
    },
    "tags": []
   },
   "outputs": [
    {
     "name": "stdout",
     "output_type": "stream",
     "text": [
      "<class 'pandas.core.frame.DataFrame'>\n",
      "RangeIndex: 350 entries, 0 to 349\n",
      "Data columns (total 6 columns):\n",
      " #   Column       Non-Null Count  Dtype \n",
      "---  ------       --------------  ----- \n",
      " 0   date         350 non-null    object\n",
      " 1   type         350 non-null    object\n",
      " 2   locale       350 non-null    object\n",
      " 3   locale_name  350 non-null    object\n",
      " 4   description  350 non-null    object\n",
      " 5   transferred  350 non-null    bool  \n",
      "dtypes: bool(1), object(5)\n",
      "memory usage: 14.1+ KB\n"
     ]
    }
   ],
   "source": [
    "holidays.info()"
   ]
  },
  {
   "cell_type": "code",
   "execution_count": 25,
   "id": "b2be8a10",
   "metadata": {
    "execution": {
     "iopub.execute_input": "2023-01-13T09:21:39.957397Z",
     "iopub.status.busy": "2023-01-13T09:21:39.956987Z",
     "iopub.status.idle": "2023-01-13T09:21:39.964148Z",
     "shell.execute_reply": "2023-01-13T09:21:39.963101Z"
    },
    "papermill": {
     "duration": 0.021996,
     "end_time": "2023-01-13T09:21:39.966120",
     "exception": false,
     "start_time": "2023-01-13T09:21:39.944124",
     "status": "completed"
    },
    "tags": []
   },
   "outputs": [
    {
     "data": {
      "text/plain": [
       "(350, 6)"
      ]
     },
     "execution_count": 25,
     "metadata": {},
     "output_type": "execute_result"
    }
   ],
   "source": [
    "holidays.shape"
   ]
  },
  {
   "cell_type": "code",
   "execution_count": 26,
   "id": "9822292e",
   "metadata": {
    "execution": {
     "iopub.execute_input": "2023-01-13T09:21:39.990271Z",
     "iopub.status.busy": "2023-01-13T09:21:39.989861Z",
     "iopub.status.idle": "2023-01-13T09:21:39.997185Z",
     "shell.execute_reply": "2023-01-13T09:21:39.995813Z"
    },
    "papermill": {
     "duration": 0.021986,
     "end_time": "2023-01-13T09:21:39.999364",
     "exception": false,
     "start_time": "2023-01-13T09:21:39.977378",
     "status": "completed"
    },
    "tags": []
   },
   "outputs": [],
   "source": [
    "holidays['date'] = pd.to_datetime(holidays['date'],infer_datetime_format = True)"
   ]
  },
  {
   "cell_type": "code",
   "execution_count": 27,
   "id": "432ae251",
   "metadata": {
    "execution": {
     "iopub.execute_input": "2023-01-13T09:21:40.024514Z",
     "iopub.status.busy": "2023-01-13T09:21:40.024070Z",
     "iopub.status.idle": "2023-01-13T09:21:40.034784Z",
     "shell.execute_reply": "2023-01-13T09:21:40.033275Z"
    },
    "papermill": {
     "duration": 0.027113,
     "end_time": "2023-01-13T09:21:40.037997",
     "exception": false,
     "start_time": "2023-01-13T09:21:40.010884",
     "status": "completed"
    },
    "tags": []
   },
   "outputs": [
    {
     "data": {
      "text/plain": [
       "date           0\n",
       "type           0\n",
       "locale         0\n",
       "locale_name    0\n",
       "description    0\n",
       "transferred    0\n",
       "dtype: int64"
      ]
     },
     "execution_count": 27,
     "metadata": {},
     "output_type": "execute_result"
    }
   ],
   "source": [
    "holidays.isnull().sum()"
   ]
  },
  {
   "cell_type": "code",
   "execution_count": 28,
   "id": "2fab0b3d",
   "metadata": {
    "execution": {
     "iopub.execute_input": "2023-01-13T09:21:40.062330Z",
     "iopub.status.busy": "2023-01-13T09:21:40.061958Z",
     "iopub.status.idle": "2023-01-13T09:21:54.184829Z",
     "shell.execute_reply": "2023-01-13T09:21:54.182885Z"
    },
    "papermill": {
     "duration": 14.137617,
     "end_time": "2023-01-13T09:21:54.187305",
     "exception": false,
     "start_time": "2023-01-13T09:21:40.049688",
     "status": "completed"
    },
    "tags": []
   },
   "outputs": [
    {
     "data": {
      "image/png": "[encoded data removed]",
      "text/plain": [
       "<Figure size 432x288 with 1 Axes>"
      ]
     },
     "metadata": {
      "needs_background": "light"
     },
     "output_type": "display_data"
    }
   ],
   "source": [
    "sns.distplot(train['sales'],bins=6)\n",
    "plt.show()"
   ]
  },
  {
   "cell_type": "code",
   "execution_count": 29,
   "id": "c2a4c875",
   "metadata": {
    "execution": {
     "iopub.execute_input": "2023-01-13T09:21:54.212170Z",
     "iopub.status.busy": "2023-01-13T09:21:54.211804Z",
     "iopub.status.idle": "2023-01-13T09:21:54.252037Z",
     "shell.execute_reply": "2023-01-13T09:21:54.250684Z"
    },
    "papermill": {
     "duration": 0.055538,
     "end_time": "2023-01-13T09:21:54.254497",
     "exception": false,
     "start_time": "2023-01-13T09:21:54.198959",
     "status": "completed"
    },
    "tags": []
   },
   "outputs": [],
   "source": [
    "shop_sales = train.copy()"
   ]
  },
  {
   "cell_type": "code",
   "execution_count": 30,
   "id": "50734eb9",
   "metadata": {
    "execution": {
     "iopub.execute_input": "2023-01-13T09:21:54.279976Z",
     "iopub.status.busy": "2023-01-13T09:21:54.279584Z",
     "iopub.status.idle": "2023-01-13T09:21:54.516275Z",
     "shell.execute_reply": "2023-01-13T09:21:54.514849Z"
    },
    "papermill": {
     "duration": 0.252163,
     "end_time": "2023-01-13T09:21:54.518673",
     "exception": false,
     "start_time": "2023-01-13T09:21:54.266510",
     "status": "completed"
    },
    "tags": []
   },
   "outputs": [],
   "source": [
    "shop_sales = shop_sales.set_index('date').to_period('D')"
   ]
  },
  {
   "cell_type": "code",
   "execution_count": 31,
   "id": "ab0b1c51",
   "metadata": {
    "execution": {
     "iopub.execute_input": "2023-01-13T09:21:54.545132Z",
     "iopub.status.busy": "2023-01-13T09:21:54.544733Z",
     "iopub.status.idle": "2023-01-13T09:21:54.901916Z",
     "shell.execute_reply": "2023-01-13T09:21:54.900315Z"
    },
    "papermill": {
     "duration": 0.374196,
     "end_time": "2023-01-13T09:21:54.904623",
     "exception": false,
     "start_time": "2023-01-13T09:21:54.530427",
     "status": "completed"
    },
    "tags": []
   },
   "outputs": [],
   "source": [
    "shop_sales = shop_sales.set_index(['store_nbr', 'family'], append=True)"
   ]
  },
  {
   "cell_type": "code",
   "execution_count": 32,
   "id": "63db5b01",
   "metadata": {
    "execution": {
     "iopub.execute_input": "2023-01-13T09:21:54.929738Z",
     "iopub.status.busy": "2023-01-13T09:21:54.929293Z",
     "iopub.status.idle": "2023-01-13T09:21:54.952839Z",
     "shell.execute_reply": "2023-01-13T09:21:54.951497Z"
    },
    "papermill": {
     "duration": 0.038789,
     "end_time": "2023-01-13T09:21:54.955243",
     "exception": false,
     "start_time": "2023-01-13T09:21:54.916454",
     "status": "completed"
    },
    "tags": []
   },
   "outputs": [
    {
     "data": {
      "text/html": [
       "<div>\n",
       "<style scoped>\n",
       "    .dataframe tbody tr th:only-of-type {\n",
       "        vertical-align: middle;\n",
       "    }\n",
       "\n",
       "    .dataframe tbody tr th {\n",
       "        vertical-align: top;\n",
       "    }\n",
       "\n",
       "    .dataframe thead th {\n",
       "        text-align: right;\n",
       "    }\n",
       "</style>\n",
       "<table border=\"1\" class=\"dataframe\">\n",
       "  <thead>\n",
       "    <tr style=\"text-align: right;\">\n",
       "      <th></th>\n",
       "      <th></th>\n",
       "      <th></th>\n",
       "      <th>id</th>\n",
       "      <th>sales</th>\n",
       "      <th>onpromotion</th>\n",
       "    </tr>\n",
       "    <tr>\n",
       "      <th>date</th>\n",
       "      <th>store_nbr</th>\n",
       "      <th>family</th>\n",
       "      <th></th>\n",
       "      <th></th>\n",
       "      <th></th>\n",
       "    </tr>\n",
       "  </thead>\n",
       "  <tbody>\n",
       "    <tr>\n",
       "      <th rowspan=\"5\" valign=\"top\">2013-01-01</th>\n",
       "      <th rowspan=\"5\" valign=\"top\">1</th>\n",
       "      <th>AUTOMOTIVE</th>\n",
       "      <td>0</td>\n",
       "      <td>0.000</td>\n",
       "      <td>0</td>\n",
       "    </tr>\n",
       "    <tr>\n",
       "      <th>BABY CARE</th>\n",
       "      <td>1</td>\n",
       "      <td>0.000</td>\n",
       "      <td>0</td>\n",
       "    </tr>\n",
       "    <tr>\n",
       "      <th>BEAUTY</th>\n",
       "      <td>2</td>\n",
       "      <td>0.000</td>\n",
       "      <td>0</td>\n",
       "    </tr>\n",
       "    <tr>\n",
       "      <th>BEVERAGES</th>\n",
       "      <td>3</td>\n",
       "      <td>0.000</td>\n",
       "      <td>0</td>\n",
       "    </tr>\n",
       "    <tr>\n",
       "      <th>BOOKS</th>\n",
       "      <td>4</td>\n",
       "      <td>0.000</td>\n",
       "      <td>0</td>\n",
       "    </tr>\n",
       "    <tr>\n",
       "      <th>...</th>\n",
       "      <th>...</th>\n",
       "      <th>...</th>\n",
       "      <td>...</td>\n",
       "      <td>...</td>\n",
       "      <td>...</td>\n",
       "    </tr>\n",
       "    <tr>\n",
       "      <th rowspan=\"5\" valign=\"top\">2017-08-15</th>\n",
       "      <th rowspan=\"5\" valign=\"top\">9</th>\n",
       "      <th>POULTRY</th>\n",
       "      <td>3000883</td>\n",
       "      <td>438.133</td>\n",
       "      <td>0</td>\n",
       "    </tr>\n",
       "    <tr>\n",
       "      <th>PREPARED FOODS</th>\n",
       "      <td>3000884</td>\n",
       "      <td>154.553</td>\n",
       "      <td>1</td>\n",
       "    </tr>\n",
       "    <tr>\n",
       "      <th>PRODUCE</th>\n",
       "      <td>3000885</td>\n",
       "      <td>2419.729</td>\n",
       "      <td>148</td>\n",
       "    </tr>\n",
       "    <tr>\n",
       "      <th>SCHOOL AND OFFICE SUPPLIES</th>\n",
       "      <td>3000886</td>\n",
       "      <td>121.000</td>\n",
       "      <td>8</td>\n",
       "    </tr>\n",
       "    <tr>\n",
       "      <th>SEAFOOD</th>\n",
       "      <td>3000887</td>\n",
       "      <td>16.000</td>\n",
       "      <td>0</td>\n",
       "    </tr>\n",
       "  </tbody>\n",
       "</table>\n",
       "<p>3000888 rows × 3 columns</p>\n",
       "</div>"
      ],
      "text/plain": [
       "                                                      id     sales  \\\n",
       "date       store_nbr family                                          \n",
       "2013-01-01 1         AUTOMOTIVE                        0     0.000   \n",
       "                     BABY CARE                         1     0.000   \n",
       "                     BEAUTY                            2     0.000   \n",
       "                     BEVERAGES                         3     0.000   \n",
       "                     BOOKS                             4     0.000   \n",
       "...                                                  ...       ...   \n",
       "2017-08-15 9         POULTRY                     3000883   438.133   \n",
       "                     PREPARED FOODS              3000884   154.553   \n",
       "                     PRODUCE                     3000885  2419.729   \n",
       "                     SCHOOL AND OFFICE SUPPLIES  3000886   121.000   \n",
       "                     SEAFOOD                     3000887    16.000   \n",
       "\n",
       "                                                 onpromotion  \n",
       "date       store_nbr family                                   \n",
       "2013-01-01 1         AUTOMOTIVE                            0  \n",
       "                     BABY CARE                             0  \n",
       "                     BEAUTY                                0  \n",
       "                     BEVERAGES                             0  \n",
       "                     BOOKS                                 0  \n",
       "...                                                      ...  \n",
       "2017-08-15 9         POULTRY                               0  \n",
       "                     PREPARED FOODS                        1  \n",
       "                     PRODUCE                             148  \n",
       "                     SCHOOL AND OFFICE SUPPLIES            8  \n",
       "                     SEAFOOD                               0  \n",
       "\n",
       "[3000888 rows x 3 columns]"
      ]
     },
     "execution_count": 32,
     "metadata": {},
     "output_type": "execute_result"
    }
   ],
   "source": [
    "shop_sales"
   ]
  },
  {
   "cell_type": "code",
   "execution_count": 33,
   "id": "cd705364",
   "metadata": {
    "execution": {
     "iopub.execute_input": "2023-01-13T09:21:54.980892Z",
     "iopub.status.busy": "2023-01-13T09:21:54.980493Z",
     "iopub.status.idle": "2023-01-13T09:21:55.108250Z",
     "shell.execute_reply": "2023-01-13T09:21:55.106405Z"
    },
    "papermill": {
     "duration": 0.143648,
     "end_time": "2023-01-13T09:21:55.110984",
     "exception": false,
     "start_time": "2023-01-13T09:21:54.967336",
     "status": "completed"
    },
    "tags": []
   },
   "outputs": [
    {
     "data": {
      "text/plain": [
       "date\n",
       "2013-01-01      1.409438\n",
       "2013-01-02    278.390807\n",
       "2013-01-03    202.840197\n",
       "2013-01-04    198.911154\n",
       "2013-01-05    267.873244\n",
       "                 ...    \n",
       "2017-08-11    463.733851\n",
       "2017-08-12    444.798280\n",
       "2017-08-13    485.768618\n",
       "2017-08-14    427.004717\n",
       "2017-08-15    427.980884\n",
       "Freq: D, Name: sales, Length: 1684, dtype: float64"
      ]
     },
     "execution_count": 33,
     "metadata": {},
     "output_type": "execute_result"
    }
   ],
   "source": [
    "average = shop_sales.groupby('date').mean()['sales']\n",
    "\n",
    "average"
   ]
  },
  {
   "cell_type": "code",
   "execution_count": 34,
   "id": "766fab54",
   "metadata": {
    "execution": {
     "iopub.execute_input": "2023-01-13T09:21:55.137399Z",
     "iopub.status.busy": "2023-01-13T09:21:55.136998Z",
     "iopub.status.idle": "2023-01-13T09:21:55.142648Z",
     "shell.execute_reply": "2023-01-13T09:21:55.141728Z"
    },
    "papermill": {
     "duration": 0.021764,
     "end_time": "2023-01-13T09:21:55.145133",
     "exception": false,
     "start_time": "2023-01-13T09:21:55.123369",
     "status": "completed"
    },
    "tags": []
   },
   "outputs": [],
   "source": [
    "avg_sales = average.to_frame()"
   ]
  },
  {
   "cell_type": "code",
   "execution_count": 35,
   "id": "c9527057",
   "metadata": {
    "execution": {
     "iopub.execute_input": "2023-01-13T09:21:55.172866Z",
     "iopub.status.busy": "2023-01-13T09:21:55.172070Z",
     "iopub.status.idle": "2023-01-13T09:21:55.179260Z",
     "shell.execute_reply": "2023-01-13T09:21:55.178141Z"
    },
    "papermill": {
     "duration": 0.023524,
     "end_time": "2023-01-13T09:21:55.181773",
     "exception": false,
     "start_time": "2023-01-13T09:21:55.158249",
     "status": "completed"
    },
    "tags": []
   },
   "outputs": [],
   "source": [
    "time = np.arange(len(avg_sales.index))\n",
    "\n",
    "avg_sales['time'] = time "
   ]
  },
  {
   "cell_type": "code",
   "execution_count": 36,
   "id": "697d1d85",
   "metadata": {
    "execution": {
     "iopub.execute_input": "2023-01-13T09:21:55.208256Z",
     "iopub.status.busy": "2023-01-13T09:21:55.207614Z",
     "iopub.status.idle": "2023-01-13T09:21:55.214609Z",
     "shell.execute_reply": "2023-01-13T09:21:55.213555Z"
    },
    "papermill": {
     "duration": 0.02301,
     "end_time": "2023-01-13T09:21:55.217177",
     "exception": false,
     "start_time": "2023-01-13T09:21:55.194167",
     "status": "completed"
    },
    "tags": []
   },
   "outputs": [],
   "source": [
    "X = avg_sales.loc[:, ['time']]\n",
    "y = avg_sales.loc[:, 'sales']\n"
   ]
  },
  {
   "cell_type": "code",
   "execution_count": 37,
   "id": "276386fd",
   "metadata": {
    "execution": {
     "iopub.execute_input": "2023-01-13T09:21:55.244804Z",
     "iopub.status.busy": "2023-01-13T09:21:55.244175Z",
     "iopub.status.idle": "2023-01-13T09:21:55.261274Z",
     "shell.execute_reply": "2023-01-13T09:21:55.260181Z"
    },
    "papermill": {
     "duration": 0.033716,
     "end_time": "2023-01-13T09:21:55.263877",
     "exception": false,
     "start_time": "2023-01-13T09:21:55.230161",
     "status": "completed"
    },
    "tags": []
   },
   "outputs": [],
   "source": [
    "model = LinearRegression()\n",
    "model.fit(X, y)\n",
    "\n",
    "y_pred = pd.Series(model.predict(X), index=X.index)"
   ]
  },
  {
   "cell_type": "code",
   "execution_count": 38,
   "id": "9ab222ee",
   "metadata": {
    "execution": {
     "iopub.execute_input": "2023-01-13T09:21:55.291184Z",
     "iopub.status.busy": "2023-01-13T09:21:55.290553Z",
     "iopub.status.idle": "2023-01-13T09:21:55.533434Z",
     "shell.execute_reply": "2023-01-13T09:21:55.531785Z"
    },
    "papermill": {
     "duration": 0.260146,
     "end_time": "2023-01-13T09:21:55.536574",
     "exception": false,
     "start_time": "2023-01-13T09:21:55.276428",
     "status": "completed"
    },
    "tags": []
   },
   "outputs": [
    {
     "data": {
      "image/png": "[encoded data removed]",
      "text/plain": [
       "<Figure size 432x288 with 1 Axes>"
      ]
     },
     "metadata": {
      "needs_background": "light"
     },
     "output_type": "display_data"
    }
   ],
   "source": [
    "ax = y.plot(\n",
    "    color=\"0.75\",\n",
    "    style=\".-\",\n",
    "    markeredgecolor=\"0.25\",\n",
    "    markerfacecolor=\"0.25\",\n",
    "    legend=False, alpha=0.5)\n",
    "ax = y_pred.plot(ax=ax, linewidth=3)\n",
    "ax.set_title('Average Sales trend over years');"
   ]
  },
  {
   "cell_type": "code",
   "execution_count": 39,
   "id": "5efc95cd",
   "metadata": {
    "execution": {
     "iopub.execute_input": "2023-01-13T09:21:55.566137Z",
     "iopub.status.busy": "2023-01-13T09:21:55.565677Z",
     "iopub.status.idle": "2023-01-13T09:21:55.958649Z",
     "shell.execute_reply": "2023-01-13T09:21:55.957930Z"
    },
    "papermill": {
     "duration": 0.409897,
     "end_time": "2023-01-13T09:21:55.960434",
     "exception": false,
     "start_time": "2023-01-13T09:21:55.550537",
     "status": "completed"
    },
    "tags": []
   },
   "outputs": [
    {
     "data": {
      "image/png": "[encoded data removed]",
      "text/plain": [
       "<Figure size 432x288 with 1 Axes>"
      ]
     },
     "metadata": {
      "needs_background": "light"
     },
     "output_type": "display_data"
    }
   ],
   "source": [
    "train_df = train.copy()\n",
    "train_df=train_df.set_index('date')\n",
    "temp=train_df.groupby(train_df.index.day_of_week)['sales'].mean().to_frame()\n",
    "\n",
    "temp.plot(color=\"0.75\", style=\".-\", markeredgecolor=\"0.25\",\n",
    "          markerfacecolor=\"0.25\", legend=False)\n",
    "plt.xlabel('Day of Week')\n",
    "plt.ylabel('Avg. Sales')\n",
    "plt.title('Avg. Sales by Day of Week')\n",
    "plt.show()"
   ]
  },
  {
   "cell_type": "code",
   "execution_count": 40,
   "id": "735e9e50",
   "metadata": {
    "execution": {
     "iopub.execute_input": "2023-01-13T09:21:55.988880Z",
     "iopub.status.busy": "2023-01-13T09:21:55.988059Z",
     "iopub.status.idle": "2023-01-13T09:21:56.108555Z",
     "shell.execute_reply": "2023-01-13T09:21:56.107884Z"
    },
    "papermill": {
     "duration": 0.1373,
     "end_time": "2023-01-13T09:21:56.111139",
     "exception": false,
     "start_time": "2023-01-13T09:21:55.973839",
     "status": "completed"
    },
    "tags": []
   },
   "outputs": [
    {
     "data": {
      "text/html": [
       "<div>\n",
       "<style scoped>\n",
       "    .dataframe tbody tr th:only-of-type {\n",
       "        vertical-align: middle;\n",
       "    }\n",
       "\n",
       "    .dataframe tbody tr th {\n",
       "        vertical-align: top;\n",
       "    }\n",
       "\n",
       "    .dataframe thead th {\n",
       "        text-align: right;\n",
       "    }\n",
       "</style>\n",
       "<table border=\"1\" class=\"dataframe\">\n",
       "  <thead>\n",
       "    <tr style=\"text-align: right;\">\n",
       "      <th></th>\n",
       "      <th>date</th>\n",
       "      <th>sales</th>\n",
       "      <th>onpromotion</th>\n",
       "    </tr>\n",
       "  </thead>\n",
       "  <tbody>\n",
       "    <tr>\n",
       "      <th>0</th>\n",
       "      <td>2013-01-01</td>\n",
       "      <td>2511.618999</td>\n",
       "      <td>0</td>\n",
       "    </tr>\n",
       "    <tr>\n",
       "      <th>1</th>\n",
       "      <td>2013-01-02</td>\n",
       "      <td>496092.417944</td>\n",
       "      <td>0</td>\n",
       "    </tr>\n",
       "    <tr>\n",
       "      <th>2</th>\n",
       "      <td>2013-01-03</td>\n",
       "      <td>361461.231124</td>\n",
       "      <td>0</td>\n",
       "    </tr>\n",
       "    <tr>\n",
       "      <th>3</th>\n",
       "      <td>2013-01-04</td>\n",
       "      <td>354459.677093</td>\n",
       "      <td>0</td>\n",
       "    </tr>\n",
       "    <tr>\n",
       "      <th>4</th>\n",
       "      <td>2013-01-05</td>\n",
       "      <td>477350.121229</td>\n",
       "      <td>0</td>\n",
       "    </tr>\n",
       "    <tr>\n",
       "      <th>...</th>\n",
       "      <td>...</td>\n",
       "      <td>...</td>\n",
       "      <td>...</td>\n",
       "    </tr>\n",
       "    <tr>\n",
       "      <th>1679</th>\n",
       "      <td>2017-08-11</td>\n",
       "      <td>826373.722022</td>\n",
       "      <td>14179</td>\n",
       "    </tr>\n",
       "    <tr>\n",
       "      <th>1680</th>\n",
       "      <td>2017-08-12</td>\n",
       "      <td>792630.535079</td>\n",
       "      <td>8312</td>\n",
       "    </tr>\n",
       "    <tr>\n",
       "      <th>1681</th>\n",
       "      <td>2017-08-13</td>\n",
       "      <td>865639.677471</td>\n",
       "      <td>9283</td>\n",
       "    </tr>\n",
       "    <tr>\n",
       "      <th>1682</th>\n",
       "      <td>2017-08-14</td>\n",
       "      <td>760922.406081</td>\n",
       "      <td>8043</td>\n",
       "    </tr>\n",
       "    <tr>\n",
       "      <th>1683</th>\n",
       "      <td>2017-08-15</td>\n",
       "      <td>762661.935939</td>\n",
       "      <td>10605</td>\n",
       "    </tr>\n",
       "  </tbody>\n",
       "</table>\n",
       "<p>1684 rows × 3 columns</p>\n",
       "</div>"
      ],
      "text/plain": [
       "           date          sales  onpromotion\n",
       "0    2013-01-01    2511.618999            0\n",
       "1    2013-01-02  496092.417944            0\n",
       "2    2013-01-03  361461.231124            0\n",
       "3    2013-01-04  354459.677093            0\n",
       "4    2013-01-05  477350.121229            0\n",
       "...         ...            ...          ...\n",
       "1679 2017-08-11  826373.722022        14179\n",
       "1680 2017-08-12  792630.535079         8312\n",
       "1681 2017-08-13  865639.677471         9283\n",
       "1682 2017-08-14  760922.406081         8043\n",
       "1683 2017-08-15  762661.935939        10605\n",
       "\n",
       "[1684 rows x 3 columns]"
      ]
     },
     "execution_count": 40,
     "metadata": {},
     "output_type": "execute_result"
    }
   ],
   "source": [
    "average_sales=train_df.groupby(['date'])['sales','onpromotion'].sum().reset_index()\n",
    "average_sales"
   ]
  },
  {
   "cell_type": "code",
   "execution_count": 41,
   "id": "a6a29eba",
   "metadata": {
    "execution": {
     "iopub.execute_input": "2023-01-13T09:21:56.140400Z",
     "iopub.status.busy": "2023-01-13T09:21:56.139840Z",
     "iopub.status.idle": "2023-01-13T09:21:56.324115Z",
     "shell.execute_reply": "2023-01-13T09:21:56.322871Z"
    },
    "papermill": {
     "duration": 0.201555,
     "end_time": "2023-01-13T09:21:56.326811",
     "exception": false,
     "start_time": "2023-01-13T09:21:56.125256",
     "status": "completed"
    },
    "tags": []
   },
   "outputs": [
    {
     "data": {
      "image/png": "[encoded data removed]",
      "text/plain": [
       "<Figure size 720x360 with 1 Axes>"
      ]
     },
     "metadata": {
      "needs_background": "light"
     },
     "output_type": "display_data"
    }
   ],
   "source": [
    "plt.figure(figsize=(10,5))\n",
    "sns.regplot(data=average_sales,x='onpromotion',y='sales',ci=None,\n",
    "            scatter_kws={'color':'0.4'},line_kws={'color':'red','linewidth':3})\n",
    "plt.xlabel('Total Items on Promotion')\n",
    "plt.ylabel('Total Sales')\n",
    "plt.title('Total Sales vs. Total Items On-promotion')\n",
    "plt.show()"
   ]
  },
  {
   "cell_type": "code",
   "execution_count": 42,
   "id": "0bbdfcec",
   "metadata": {
    "execution": {
     "iopub.execute_input": "2023-01-13T09:21:56.357829Z",
     "iopub.status.busy": "2023-01-13T09:21:56.357223Z",
     "iopub.status.idle": "2023-01-13T09:21:56.367876Z",
     "shell.execute_reply": "2023-01-13T09:21:56.366846Z"
    },
    "papermill": {
     "duration": 0.028929,
     "end_time": "2023-01-13T09:21:56.370214",
     "exception": false,
     "start_time": "2023-01-13T09:21:56.341285",
     "status": "completed"
    },
    "tags": []
   },
   "outputs": [
    {
     "data": {
      "text/plain": [
       "0.5749"
      ]
     },
     "execution_count": 42,
     "metadata": {},
     "output_type": "execute_result"
    }
   ],
   "source": [
    "np.round(average_sales[['sales','onpromotion']].corr().iloc[0,1],4)"
   ]
  },
  {
   "cell_type": "markdown",
   "id": "384f5333",
   "metadata": {
    "papermill": {
     "duration": 0.013545,
     "end_time": "2023-01-13T09:21:56.398313",
     "exception": false,
     "start_time": "2023-01-13T09:21:56.384768",
     "status": "completed"
    },
    "tags": []
   },
   "source": [
    "**Observation: The correlation is 0.5749**"
   ]
  },
  {
   "cell_type": "code",
   "execution_count": null,
   "id": "b1b2b727",
   "metadata": {
    "papermill": {
     "duration": 0.013727,
     "end_time": "2023-01-13T09:21:56.425999",
     "exception": false,
     "start_time": "2023-01-13T09:21:56.412272",
     "status": "completed"
    },
    "tags": []
   },
   "outputs": [],
   "source": []
  }
 ],
 "metadata": {
  "kernelspec": {
   "display_name": "Python 3",
   "language": "python",
   "name": "python3"
  },
  "language_info": {
   "codemirror_mode": {
    "name": "ipython",
    "version": 3
   },
   "file_extension": ".py",
   "mimetype": "text/x-python",
   "name": "python",
   "nbconvert_exporter": "python",
   "pygments_lexer": "ipython3",
   "version": "3.7.12"
  },
  "papermill": {
   "default_parameters": {},
   "duration": 31.751618,
   "end_time": "2023-01-13T09:21:57.362586",
   "environment_variables": {},
   "exception": null,
   "input_path": "__notebook__.ipynb",
   "output_path": "__notebook__.ipynb",
   "parameters": {},
   "start_time": "2023-01-13T09:21:25.610968",
   "version": "2.3.4"
  }
 },
 "nbformat": 4,
 "nbformat_minor": 5
}
